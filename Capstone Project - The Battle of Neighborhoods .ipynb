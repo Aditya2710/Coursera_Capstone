{
    "nbformat_minor": 1, 
    "cells": [
        {
            "source": "# Capstone Project - The Battle of Neighborhoods", 
            "cell_type": "markdown", 
            "metadata": {
                "collapsed": true
            }
        }, 
        {
            "source": "## _Intoduction_\n*Introduction where you discuss the business problem and who would be interested in this project*\n\n__Business Problem:__ Would you recommend a best location in Bangalore to open a new Offshore Development Center aka \u2018ODC\u2019?\nMy organization want to set up the ODC in Bangalore, India to develop own product for the banking CCAR and provide the 24/7 technical support to client\u2019s bank who purchased the CCAR Products.\n\nIn this regard, my boss explains that what are the factors to be considered when recommending the location with consideration of 24/7 operations, need to take care of transportations, Restaurants access, shopping places etc. He explains, ODC should has many restaurants, shopping places and housing society (Building Apartments) nearby for the employees. Transportation is also an important factor. Within 10 to 15 minutes\u2019 walk to ODC from public transport facilities is perfect. \nHe wants me concentrated on selection of ODC location according to its nearby environment. ODC should have facilities 'Security', 'Day Care Service', 'Fire Safety, Transposts, EATERIES,AMBULANCE SERVICES for Imergency,AMPHITHEATRE,and PARKING. Rental/Lease price is not my concern. He lists out his top 5 favorite IT Parks in Bangalore with rating. I work with my teammates and select 5 possible locations to set up the ODC. Which location should be suggested to the stakeholder? \n\nFrom Wikipedia,Bangalore is sometimes referred to as the \"Silicon Valley of India\" (or \"IT capital of India\") because of its role as the nation's leading information technology (IT) exporter. Indian technological organizations ISRO, Infosys, Wipro and HAL are headquartered in the city. A demographically diverse city, Bangalore is the second fastest-growing major metropolis in India. Bangalore has one of the most highly educated workforces in the world. It is home to many educational and research institutions in India, such as Indian Institute of Science (IISc), Indian Institute of Management (Bangalore) (IIMB), International Institute of Information Technology, Bangalore (IIITB), National Institute of Fashion Technology, Bangalore, National Institute of Design, Bangalore (NID R&D Campus), National Law School of India University (NLSIU) and National Institute of Mental Health and Neurosciences (NIMHANS). Numerous state-owned aerospace and defenses, such as Bharat Electronics, Hindustan Aeronautics and National Aerospace Laboratories are located in the city. The city also houses the Kannada film industry.\n", 
            "cell_type": "markdown", 
            "metadata": {}
        }, 
        {
            "source": "## _Data_\n*Data where you describe the data that will be used to solve the problem and the source of the data. According to the question, following data are required.*\n\nAccording to the question, following data are required\n1. Geographic coordinate of Tech Parks in Bangalore. \n    Need to compare 10 possible locations with current IT Tech Parks in Bangalore. Therefore, I need to find a list of\n    Bangalore tech Parks' geographic coordinates. Have done a quick research on public information uploaded to internet and wikipedia pages and found there is no consilidated datasheet available currently. So there is a need to prepare the dataset, IT Park Name, Latitude and Longitude.\n\nInformation extracted from Wiki -\n   1.  Name: Bagmane Tech Park\n       Address: CV Raman Nagar, Bengaluru, Karnataka, India\n       Latitude:  12.978611\n       Longitude: 77.661111\n   2. Name : Embassy GolfLinks Business Park\n      Address: Off Intermediate Ring Road,Bengaluru, Karnataka, India\n      Latitude:  12.949102\n      Longitude: 77.644314\n   3. Name : Embassy TechVillage\n      Address: Outer Ring Road,Bengaluru, Karnataka, India\n      Latitude:  12.9313798\n      Longitude: 77.6911923\n   4. Name : Manyata Embassy Business Park\n      Address: Nagawara, Outer Ring Road,Bengaluru, Karnataka, India\n      Latitude:  13.0481\n      Longitude: 77.6222\n   5. Name :Electronic City\n      Address: Electronic City,Bengaluru, Karnataka, India\n      Latitude:  12.8399\n      Longitude: 77.6770\n   6. Name :RMZ Ecoworld\n      Address: devarabisanahalli outer ring road, Bangaluru, Karnataka, India\n      Latitude:  12.9256\n      Longitude: 77.6878\n   7. Name :International Tech Park\n      Address: ITPL,Bengaluru, Karnataka, India\n      Latitude:  12.8399\n      Longitude: 77.6770\n   8. Name :Prestige Tech Park\n      Address: Sarjapur Ring Road, Marathahalli,Bengaluru, Karnataka, India\n      Latitude:  12.9425\n      Longitude: 77.6927\n      \n\n    ", 
            "cell_type": "markdown", 
            "metadata": {}
        }, 
        {
            "execution_count": 10, 
            "cell_type": "code", 
            "metadata": {}, 
            "outputs": [
                {
                    "execution_count": 10, 
                    "metadata": {}, 
                    "data": {
                        "text/html": "<div>\n<style scoped>\n    .dataframe tbody tr th:only-of-type {\n        vertical-align: middle;\n    }\n\n    .dataframe tbody tr th {\n        vertical-align: top;\n    }\n\n    .dataframe thead th {\n        text-align: right;\n    }\n</style>\n<table border=\"1\" class=\"dataframe\">\n  <thead>\n    <tr style=\"text-align: right;\">\n      <th></th>\n      <th>Name</th>\n      <th>Address</th>\n      <th>Latitude</th>\n      <th>Longitude</th>\n    </tr>\n  </thead>\n  <tbody>\n    <tr>\n      <th>0</th>\n      <td>Bagmane Tech Park</td>\n      <td>CV Raman Nagar, Bengaluru, Karnataka, India</td>\n      <td>12.978611</td>\n      <td>77.661111</td>\n    </tr>\n    <tr>\n      <th>1</th>\n      <td>Embassy GolfLinks Business Park</td>\n      <td>Off Intermediate Ring Road,Bengaluru, Karnatak...</td>\n      <td>12.949102</td>\n      <td>77.644314</td>\n    </tr>\n    <tr>\n      <th>2</th>\n      <td>Manyata Embassy Business Park</td>\n      <td>Nagawara, Outer Ring Road,Bengaluru, Karnataka...</td>\n      <td>13.048100</td>\n      <td>77.622200</td>\n    </tr>\n    <tr>\n      <th>3</th>\n      <td>Embassy TechVillage</td>\n      <td>Outer Ring Road,Bengaluru, Karnataka, India</td>\n      <td>12.931380</td>\n      <td>77.691192</td>\n    </tr>\n    <tr>\n      <th>4</th>\n      <td>Electronic City</td>\n      <td>Electronic City,Bengaluru, Karnataka, India</td>\n      <td>12.839900</td>\n      <td>77.677000</td>\n    </tr>\n  </tbody>\n</table>\n</div>", 
                        "text/plain": "                              Name  \\\n0                Bagmane Tech Park   \n1  Embassy GolfLinks Business Park   \n2    Manyata Embassy Business Park   \n3              Embassy TechVillage   \n4                  Electronic City   \n\n                                             Address   Latitude  Longitude  \n0        CV Raman Nagar, Bengaluru, Karnataka, India  12.978611  77.661111  \n1  Off Intermediate Ring Road,Bengaluru, Karnatak...  12.949102  77.644314  \n2  Nagawara, Outer Ring Road,Bengaluru, Karnataka...  13.048100  77.622200  \n3        Outer Ring Road,Bengaluru, Karnataka, India  12.931380  77.691192  \n4        Electronic City,Bengaluru, Karnataka, India  12.839900  77.677000  "
                    }, 
                    "output_type": "execute_result"
                }
            ], 
            "source": "import pandas as pd\nitparks=[]\nitparks.append({\n        'Name': 'Bagmane Tech Park',\n        'Address': 'CV Raman Nagar, Bengaluru, Karnataka, India',\n        'Latitude': 12.978611,\n        'Longitude': 77.661111\n    })\nitparks.append({\n        'Name': 'Embassy GolfLinks Business Park',\n        'Address': 'Off Intermediate Ring Road,Bengaluru, Karnataka, India',\n        'Latitude': 12.949102,\n        'Longitude': 77.644314\n    })\nitparks.append({\n        'Name': 'Manyata Embassy Business Park',\n        'Address': 'Nagawara, Outer Ring Road,Bengaluru, Karnataka, India',\n        'Latitude': 13.0481,\n        'Longitude': 77.6222\n    })\nitparks.append({\n        'Name': 'Embassy TechVillage',\n        'Address': 'Outer Ring Road,Bengaluru, Karnataka, India',\n        'Latitude': 12.9313798,\n        'Longitude': 77.6911923\n    })\nitparks.append({ \n    'Name' :'Electronic City',\n    'Address' : 'Electronic City,Bengaluru, Karnataka, India',\n    'Latitude' :  12.8399,\n    'Longitude' : 77.6770\n    })\nitparks.append({ \n    'Name' :'RMZ Ecoworld',\n    'Address': 'devarabisanahalli outer ring road, Bangaluru, Karnataka, India',\n    'Latitude':  12.9256,\n    'Longitude': 77.6878\n    })\nitparks.append({ \n    'Name' :'International Tech Park',\n    'Address': 'ITPL,Bengaluru, Karnataka, India',\n    'Latitude':  12.8399,\n    'Longitude': 77.6770\n    })\nitparks.append({ \n    'Name' :'Prestige Tech Park',\n    'Address': 'Sarjapur Ring Road, Marathahalli,Bengaluru, Karnataka, India',\n    'Latitude':  12.9425,\n    'Longitude': 77.6927\n    })\ndf_itparks = pd.DataFrame(itparks, columns=['Name','Address','Latitude','Longitude'])\n\ndf_itparks.head()"
        }, 
        {
            "execution_count": 9, 
            "cell_type": "code", 
            "metadata": {}, 
            "outputs": [
                {
                    "output_type": "stream", 
                    "name": "stdout", 
                    "text": "There are 8 top IT Parks in Bangalore\n"
                }
            ], 
            "source": "print('There are {} top IT Parks in Bangalore'.format(len(df_itparks)))"
        }, 
        {
            "source": "The recommended ODC location needs to have many eating and shopping venues nearby. Convenient public transport is also required.\nThese data can be found by using FourSquare API to find these venues around the location. The radius of exploration distance is set to 1000 meters, which is about 10 to 15 minutes walking distance.\n\nFollowing type of venue category will be used to search", 
            "cell_type": "markdown", 
            "metadata": {}
        }, 
        {
            "execution_count": 11, 
            "cell_type": "code", 
            "metadata": {}, 
            "outputs": [], 
            "source": "fs_categories = {\n    'Indian Restaurant': '94d4b7105d754a06374d8125',\n    'Shop & Service': '4d4b7105d754a06378d81259',\n    'Bus Stop': '52f2ab2ebcbc57f1066b8b4f',\n    'Metro Station': '4bf58dd8d48988d1fd931735',\n    'Arts & Entertainment': '4d4b7104d754a06370d81259'\n}"
        }, 
        {
            "execution_count": 13, 
            "cell_type": "code", 
            "metadata": {}, 
            "outputs": [
                {
                    "execution_count": 13, 
                    "metadata": {}, 
                    "data": {
                        "text/plain": "'Arts & Entertainment, Food, Bus Stop, Metro Station, Shop & Service'"
                    }, 
                    "output_type": "execute_result"
                }
            ], 
            "source": "', '.join([ fs for fs in fs_categories])"
        }, 
        {
            "execution_count": 14, 
            "cell_type": "code", 
            "metadata": {}, 
            "outputs": [
                {
                    "output_type": "stream", 
                    "name": "stdout", 
                    "text": "Use the first IT Park \"Bagmane Tech Park\" in the list as example to explore venues nearyby\n"
                }
            ], 
            "source": "ITPark = df_itparks.loc[0]\n\nprint('Use the first IT Park \"{}\" in the list as example to explore venues nearyby'.format(ITPark['Name']))"
        }, 
        {
            "execution_count": 15, 
            "cell_type": "code", 
            "metadata": {}, 
            "outputs": [
                {
                    "output_type": "stream", 
                    "name": "stdout", 
                    "text": "Your credentails:\nCLIENT_ID: 3QMDP42DYXT0M5LCCXYJNY5B2WNPFZIKQEL1NAQA1FUFNYKC\nCLIENT_SECRET:AD3MSB2U4MLVBBTK5YMNYBF2ULA5J4JSN3LO5NVWMQY4BEBD\n"
                }
            ], 
            "source": "# let create url to call foursqure API\nCLIENT_ID = '3QMDP42DYXT0M5LCCXYJNY5B2WNPFZIKQEL1NAQA1FUFNYKC' # your Foursquare ID\nCLIENT_SECRET = 'AD3MSB2U4MLVBBTK5YMNYBF2ULA5J4JSN3LO5NVWMQY4BEBD' # your Foursquare Secret\nVERSION = '20180605' # Foursquare API version\n\nprint('Your credentails:')\nprint('CLIENT_ID: ' + CLIENT_ID)\nprint('CLIENT_SECRET:' + CLIENT_SECRET)"
        }, 
        {
            "execution_count": 16, 
            "cell_type": "code", 
            "metadata": {}, 
            "outputs": [
                {
                    "output_type": "stream", 
                    "name": "stdout", 
                    "text": "Latitude and longitude values of Bagmane Tech Park are 12.978611, 77.661111.\n"
                }
            ], 
            "source": "df_itparks.loc[0, 'Name']\nitpark_latitude = df_itparks.loc[0, 'Latitude'] # latitude value\nitpark_longitude = df_itparks.loc[0, 'Longitude'] # longitude value\n\nitpark_name = df_itparks.loc[0, 'Name'] # name\n\nprint('Latitude and longitude values of {} are {}, {}.'.format(itpark_name, \n                                                               itpark_latitude, \n                                                               itpark_longitude))"
        }, 
        {
            "execution_count": 29, 
            "cell_type": "code", 
            "metadata": {}, 
            "outputs": [
                {
                    "execution_count": 29, 
                    "metadata": {}, 
                    "data": {
                        "text/plain": "{'meta': {'code': 200, 'requestId': '5c38e5486a6071298d37d08e'},\n 'response': {'groups': [{'items': [{'reasons': {'count': 0,\n       'items': [{'reasonName': 'globalInteractionReason',\n         'summary': 'This spot is popular',\n         'type': 'general'}]},\n      'referralId': 'e-0-4fb24089e4b0a8c8110e2d6e-0',\n      'venue': {'categories': [{'icon': {'prefix': 'https://ss3.4sqi.net/img/categories_v2/food/coffeeshop_',\n          'suffix': '.png'},\n         'id': '4bf58dd8d48988d1e0931735',\n         'name': 'Coffee Shop',\n         'pluralName': 'Coffee Shops',\n         'primary': True,\n         'shortName': 'Coffee Shop'}],\n       'id': '4fb24089e4b0a8c8110e2d6e',\n       'location': {'cc': 'IN',\n        'country': 'India',\n        'distance': 358,\n        'formattedAddress': ['India'],\n        'labeledLatLngs': [{'label': 'display',\n          'lat': 12.979603129117667,\n          'lng': 77.65797139397279}],\n        'lat': 12.979603129117667,\n        'lng': 77.65797139397279,\n        'neighborhood': 'CV Raman Nagar'},\n       'name': 'Barista Lavazza',\n       'photos': {'count': 0, 'groups': []}}},\n     {'reasons': {'count': 0,\n       'items': [{'reasonName': 'globalInteractionReason',\n         'summary': 'This spot is popular',\n         'type': 'general'}]},\n      'referralId': 'e-0-4e82ebde5503bf4b0e906464-1',\n      'venue': {'categories': [{'icon': {'prefix': 'https://ss3.4sqi.net/img/categories_v2/food/deli_',\n          'suffix': '.png'},\n         'id': '4bf58dd8d48988d1c5941735',\n         'name': 'Sandwich Place',\n         'pluralName': 'Sandwich Places',\n         'primary': True,\n         'shortName': 'Sandwiches'}],\n       'id': '4e82ebde5503bf4b0e906464',\n       'location': {'address': 'Escape Mall, Bagmane Tech Park',\n        'cc': 'IN',\n        'city': 'Bangalore',\n        'country': 'India',\n        'crossStreet': 'C V Raman Nagar',\n        'distance': 249,\n        'formattedAddress': ['Escape Mall, Bagmane Tech Park (C V Raman Nagar)',\n         'Bangalore',\n         'Karn\u0101taka',\n         'India'],\n        'labeledLatLngs': [{'label': 'display',\n          'lat': 12.979143696608501,\n          'lng': 77.65887240161287}],\n        'lat': 12.979143696608501,\n        'lng': 77.65887240161287,\n        'state': 'Karn\u0101taka'},\n       'name': 'Subway',\n       'photos': {'count': 0, 'groups': []}}},\n     {'reasons': {'count': 0,\n       'items': [{'reasonName': 'globalInteractionReason',\n         'summary': 'This spot is popular',\n         'type': 'general'}]},\n      'referralId': 'e-0-4d53619bf9f9b60ce63923e6-2',\n      'venue': {'categories': [{'icon': {'prefix': 'https://ss3.4sqi.net/img/categories_v2/food/streetfood_',\n          'suffix': '.png'},\n         'id': '4bf58dd8d48988d1cb941735',\n         'name': 'Food Truck',\n         'pluralName': 'Food Trucks',\n         'primary': True,\n         'shortName': 'Food Truck'}],\n       'id': '4d53619bf9f9b60ce63923e6',\n       'location': {'address': 'Sudduguntepalya Rd, Sadduguntepalya',\n        'cc': 'IN',\n        'city': 'Bangalore',\n        'country': 'India',\n        'crossStreet': '2nd Cross, 1st Main Road',\n        'distance': 729,\n        'formattedAddress': ['Sudduguntepalya Rd, Sadduguntepalya (2nd Cross, 1st Main Road)',\n         'Bangalore',\n         'Karn\u0101taka',\n         'India'],\n        'labeledLatLngs': [{'label': 'display',\n          'lat': 12.974730206596313,\n          'lng': 77.65569017578764}],\n        'lat': 12.974730206596313,\n        'lng': 77.65569017578764,\n        'state': 'Karn\u0101taka'},\n       'name': 'Chai Point',\n       'photos': {'count': 0, 'groups': []}}},\n     {'reasons': {'count': 0,\n       'items': [{'reasonName': 'globalInteractionReason',\n         'summary': 'This spot is popular',\n         'type': 'general'}]},\n      'referralId': 'e-0-4f3dda37e4b0efcb51716e00-3',\n      'venue': {'categories': [{'icon': {'prefix': 'https://ss3.4sqi.net/img/categories_v2/food/coffeeshop_',\n          'suffix': '.png'},\n         'id': '4bf58dd8d48988d1e0931735',\n         'name': 'Coffee Shop',\n         'pluralName': 'Coffee Shops',\n         'primary': True,\n         'shortName': 'Coffee Shop'}],\n       'id': '4f3dda37e4b0efcb51716e00',\n       'location': {'address': 'C V Raman Nagar, Bangalore, Karnataka',\n        'cc': 'IN',\n        'city': 'Bangalore',\n        'country': 'India',\n        'distance': 508,\n        'formattedAddress': ['C V Raman Nagar, Bangalore, Karnataka',\n         'Bangalore',\n         'Karn\u0101taka',\n         'India'],\n        'labeledLatLngs': [{'label': 'display',\n          'lat': 12.980122413699588,\n          'lng': 77.66553782779751}],\n        'lat': 12.980122413699588,\n        'lng': 77.66553782779751,\n        'state': 'Karn\u0101taka'},\n       'name': \"Tea O' Clock\",\n       'photos': {'count': 0, 'groups': []}}},\n     {'reasons': {'count': 0,\n       'items': [{'reasonName': 'globalInteractionReason',\n         'summary': 'This spot is popular',\n         'type': 'general'}]},\n      'referralId': 'e-0-4f743d90e4b0e7c6436331fd-4',\n      'venue': {'categories': [{'icon': {'prefix': 'https://ss3.4sqi.net/img/categories_v2/shops/tobacco_',\n          'suffix': '.png'},\n         'id': '4bf58dd8d48988d123951735',\n         'name': 'Smoke Shop',\n         'pluralName': 'Smoke Shops',\n         'primary': True,\n         'shortName': 'Smoke Shop'}],\n       'id': '4f743d90e4b0e7c6436331fd',\n       'location': {'address': 'BTP',\n        'cc': 'IN',\n        'country': 'India',\n        'distance': 538,\n        'formattedAddress': ['BTP', 'India'],\n        'labeledLatLngs': [{'label': 'display',\n          'lat': 12.979456579011261,\n          'lng': 77.66599695737797}],\n        'lat': 12.979456579011261,\n        'lng': 77.66599695737797},\n       'name': 'BTP Prison Gate',\n       'photos': {'count': 0, 'groups': []}}},\n     {'reasons': {'count': 0,\n       'items': [{'reasonName': 'globalInteractionReason',\n         'summary': 'This spot is popular',\n         'type': 'general'}]},\n      'referralId': 'e-0-4f55c74ee4b0ed29b727f4ef-5',\n      'venue': {'categories': [{'icon': {'prefix': 'https://ss3.4sqi.net/img/categories_v2/food/indian_',\n          'suffix': '.png'},\n         'id': '4bf58dd8d48988d10f941735',\n         'name': 'Indian Restaurant',\n         'pluralName': 'Indian Restaurants',\n         'primary': True,\n         'shortName': 'Indian'}],\n       'id': '4f55c74ee4b0ed29b727f4ef',\n       'location': {'cc': 'IN',\n        'country': 'India',\n        'distance': 588,\n        'formattedAddress': ['India'],\n        'labeledLatLngs': [{'label': 'display',\n          'lat': 12.980003790916342,\n          'lng': 77.66634384545513}],\n        'lat': 12.980003790916342,\n        'lng': 77.66634384545513},\n       'name': 'Biriyani Mane',\n       'photos': {'count': 0, 'groups': []}}},\n     {'reasons': {'count': 0,\n       'items': [{'reasonName': 'globalInteractionReason',\n         'summary': 'This spot is popular',\n         'type': 'general'}]},\n      'referralId': 'e-0-4edf231f61af80fe8a230700-6',\n      'venue': {'categories': [{'icon': {'prefix': 'https://ss3.4sqi.net/img/categories_v2/food/indian_',\n          'suffix': '.png'},\n         'id': '4bf58dd8d48988d10f941735',\n         'name': 'Indian Restaurant',\n         'pluralName': 'Indian Restaurants',\n         'primary': True,\n         'shortName': 'Indian'}],\n       'id': '4edf231f61af80fe8a230700',\n       'location': {'address': 'Byrasandra 5th Main Rd, C V Raman Nagar, Bengaluru, Karnataka',\n        'cc': 'IN',\n        'city': 'Bangalore',\n        'country': 'India',\n        'distance': 631,\n        'formattedAddress': ['Byrasandra 5th Main Rd, C V Raman Nagar, Bengaluru, Karnataka',\n         'Bangalore',\n         'Karn\u0101taka',\n         'India'],\n        'labeledLatLngs': [{'label': 'display',\n          'lat': 12.981548942817017,\n          'lng': 77.66609361401404}],\n        'lat': 12.981548942817017,\n        'lng': 77.66609361401404,\n        'state': 'Karn\u0101taka'},\n       'name': 'Andhra Mess',\n       'photos': {'count': 0, 'groups': []}}},\n     {'reasons': {'count': 0,\n       'items': [{'reasonName': 'globalInteractionReason',\n         'summary': 'This spot is popular',\n         'type': 'general'}]},\n      'referralId': 'e-0-4d5fdd5fd7206ea859c2edf1-7',\n      'venue': {'categories': [{'icon': {'prefix': 'https://ss3.4sqi.net/img/categories_v2/food/pizza_',\n          'suffix': '.png'},\n         'id': '4bf58dd8d48988d1ca941735',\n         'name': 'Pizza Place',\n         'pluralName': 'Pizza Places',\n         'primary': True,\n         'shortName': 'Pizza'}],\n       'id': '4d5fdd5fd7206ea859c2edf1',\n       'location': {'cc': 'IN',\n        'city': 'Bangalore',\n        'country': 'India',\n        'crossStreet': 'CV Raman Road',\n        'distance': 721,\n        'formattedAddress': ['CV Raman Road',\n         'Bangalore',\n         'Karn\u0101taka',\n         'India'],\n        'labeledLatLngs': [{'label': 'display',\n          'lat': 12.97384728526735,\n          'lng': 77.66561685559721}],\n        'lat': 12.97384728526735,\n        'lng': 77.66561685559721,\n        'state': 'Karn\u0101taka'},\n       'name': 'U.S. Pizza',\n       'photos': {'count': 0, 'groups': []}}},\n     {'reasons': {'count': 0,\n       'items': [{'reasonName': 'globalInteractionReason',\n         'summary': 'This spot is popular',\n         'type': 'general'}]},\n      'referralId': 'e-0-4c762c646f789c74a974514c-8',\n      'venue': {'categories': [{'icon': {'prefix': 'https://ss3.4sqi.net/img/categories_v2/food/asian_',\n          'suffix': '.png'},\n         'id': '4bf58dd8d48988d145941735',\n         'name': 'Chinese Restaurant',\n         'pluralName': 'Chinese Restaurants',\n         'primary': True,\n         'shortName': 'Chinese'}],\n       'id': '4c762c646f789c74a974514c',\n       'location': {'address': 'No.201, 1st Floor',\n        'cc': 'IN',\n        'city': 'Bangalore',\n        'country': 'India',\n        'crossStreet': '2nd Main Road, East Of Ngef, Kasturi Nagar',\n        'distance': 741,\n        'formattedAddress': ['No.201, 1st Floor (2nd Main Road, East Of Ngef, Kasturi Nagar)',\n         'Bangalore 560043',\n         'Karn\u0101taka',\n         'India'],\n        'labeledLatLngs': [{'label': 'display',\n          'lat': 12.971984667187478,\n          'lng': 77.6617637305434}],\n        'lat': 12.971984667187478,\n        'lng': 77.6617637305434,\n        'postalCode': '560043',\n        'state': 'Karn\u0101taka'},\n       'name': 'Beijing Bites',\n       'photos': {'count': 0, 'groups': []}}},\n     {'reasons': {'count': 0,\n       'items': [{'reasonName': 'globalInteractionReason',\n         'summary': 'This spot is popular',\n         'type': 'general'}]},\n      'referralId': 'e-0-4ed7811929c216b5c8a3a8d2-9',\n      'venue': {'categories': [{'icon': {'prefix': 'https://ss3.4sqi.net/img/categories_v2/parks_outdoors/park_',\n          'suffix': '.png'},\n         'id': '4bf58dd8d48988d163941735',\n         'name': 'Park',\n         'pluralName': 'Parks',\n         'primary': True,\n         'shortName': 'Park'}],\n       'id': '4ed7811929c216b5c8a3a8d2',\n       'location': {'address': 'DRDO Complex',\n        'cc': 'IN',\n        'city': 'Bangalore',\n        'country': 'India',\n        'crossStreet': 'C V Raman Nagar',\n        'distance': 765,\n        'formattedAddress': ['DRDO Complex (C V Raman Nagar)',\n         'Bangalore',\n         'Karn\u0101taka',\n         'India'],\n        'labeledLatLngs': [{'label': 'display',\n          'lat': 12.9851641685921,\n          'lng': 77.66326407884289}],\n        'lat': 12.9851641685921,\n        'lng': 77.66326407884289,\n        'state': 'Karn\u0101taka'},\n       'name': 'DRDO Complex Fountain Square',\n       'photos': {'count': 0, 'groups': []}}},\n     {'reasons': {'count': 0,\n       'items': [{'reasonName': 'globalInteractionReason',\n         'summary': 'This spot is popular',\n         'type': 'general'}]},\n      'referralId': 'e-0-4f770053e4b055c7602d0e3f-10',\n      'venue': {'categories': [{'icon': {'prefix': 'https://ss3.4sqi.net/img/categories_v2/food/bakery_',\n          'suffix': '.png'},\n         'id': '4bf58dd8d48988d16a941735',\n         'name': 'Bakery',\n         'pluralName': 'Bakeries',\n         'primary': True,\n         'shortName': 'Bakery'}],\n       'id': '4f770053e4b055c7602d0e3f',\n       'location': {'address': 'Byrasandra Road',\n        'cc': 'IN',\n        'city': 'Bangalore',\n        'country': 'India',\n        'crossStreet': 'G M Pallya',\n        'distance': 824,\n        'formattedAddress': ['Byrasandra Road (G M Pallya)',\n         'Bangalore',\n         'Karn\u0101taka',\n         'India'],\n        'labeledLatLngs': [{'label': 'display',\n          'lat': 12.972400027460557,\n          'lng': 77.66525895116375}],\n        'lat': 12.972400027460557,\n        'lng': 77.66525895116375,\n        'state': 'Karn\u0101taka'},\n       'name': 'Nandini Bakery',\n       'photos': {'count': 0, 'groups': []}}},\n     {'reasons': {'count': 0,\n       'items': [{'reasonName': 'globalInteractionReason',\n         'summary': 'This spot is popular',\n         'type': 'general'}]},\n      'referralId': 'e-0-4f2fe7e2e4b0d337d66ee07b-11',\n      'venue': {'categories': [{'icon': {'prefix': 'https://ss3.4sqi.net/img/categories_v2/food/indian_',\n          'suffix': '.png'},\n         'id': '4bf58dd8d48988d10f941735',\n         'name': 'Indian Restaurant',\n         'pluralName': 'Indian Restaurants',\n         'primary': True,\n         'shortName': 'Indian'}],\n       'id': '4f2fe7e2e4b0d337d66ee07b',\n       'location': {'address': 'Bagmane Back Gate',\n        'cc': 'IN',\n        'city': 'Bangalore',\n        'country': 'India',\n        'distance': 506,\n        'formattedAddress': ['Bagmane Back Gate',\n         'Bangalore',\n         'Karn\u0101taka',\n         'India'],\n        'labeledLatLngs': [{'label': 'display',\n          'lat': 12.980091231879385,\n          'lng': 77.665528108976}],\n        'lat': 12.980091231879385,\n        'lng': 77.665528108976,\n        'state': 'Karn\u0101taka'},\n       'name': 'Kakaji',\n       'photos': {'count': 0, 'groups': []}}}],\n    'name': 'recommended',\n    'type': 'Recommended Places'}],\n  'headerFullLocation': 'CV Raman Nagar, Bangalore',\n  'headerLocation': 'CV Raman Nagar',\n  'headerLocationGranularity': 'neighborhood',\n  'suggestedBounds': {'ne': {'lat': 12.987611009000009,\n    'lng': 77.6703297062725},\n   'sw': {'lat': 12.969610990999993, 'lng': 77.65189229372751}},\n  'totalResults': 12}}"
                    }, 
                    "output_type": "execute_result"
                }
            ], 
            "source": "LIMIT = 100 # limit of number of venues returned by Foursquare API\nradius = 1000 # define radius\nimport requests # library to handle requests\nfrom pandas.io.json import json_normalize # tranform JSON file into a pandas dataframe\nurl = 'https://api.foursquare.com/v2/venues/explore?&client_id={}&client_secret={}&v={}&ll={},{}&radius={}&limit={}'.format(\n    CLIENT_ID, \n    CLIENT_SECRET, \n    VERSION, \n    itpark_latitude, \n    itpark_longitude, \n    radius, \n    LIMIT)\nurl # display URL\n\nfs = requests.get(url).json()\nfs"
        }, 
        {
            "execution_count": 30, 
            "cell_type": "code", 
            "metadata": {}, 
            "outputs": [], 
            "source": "# function that extracts the category of the venue\ndef get_category_type(row):\n    try:\n        categories_list = row['categories']\n    except:\n        categories_list = row['venue.categories']\n        \n    if len(categories_list) == 0:\n        return None\n    else:\n        return categories_list[0]['name']"
        }, 
        {
            "execution_count": 45, 
            "cell_type": "code", 
            "metadata": {}, 
            "outputs": [
                {
                    "execution_count": 45, 
                    "metadata": {}, 
                    "data": {
                        "text/html": "<div>\n<style scoped>\n    .dataframe tbody tr th:only-of-type {\n        vertical-align: middle;\n    }\n\n    .dataframe tbody tr th {\n        vertical-align: top;\n    }\n\n    .dataframe thead th {\n        text-align: right;\n    }\n</style>\n<table border=\"1\" class=\"dataframe\">\n  <thead>\n    <tr style=\"text-align: right;\">\n      <th></th>\n      <th>name</th>\n      <th>categories</th>\n      <th>lat</th>\n      <th>lng</th>\n    </tr>\n  </thead>\n  <tbody>\n    <tr>\n      <th>0</th>\n      <td>Barista Lavazza</td>\n      <td>Coffee Shop</td>\n      <td>12.979603</td>\n      <td>77.657971</td>\n    </tr>\n    <tr>\n      <th>1</th>\n      <td>Subway</td>\n      <td>Sandwich Place</td>\n      <td>12.979144</td>\n      <td>77.658872</td>\n    </tr>\n    <tr>\n      <th>2</th>\n      <td>Chai Point</td>\n      <td>Food Truck</td>\n      <td>12.974730</td>\n      <td>77.655690</td>\n    </tr>\n    <tr>\n      <th>3</th>\n      <td>Tea O' Clock</td>\n      <td>Coffee Shop</td>\n      <td>12.980122</td>\n      <td>77.665538</td>\n    </tr>\n    <tr>\n      <th>4</th>\n      <td>BTP Prison Gate</td>\n      <td>Smoke Shop</td>\n      <td>12.979457</td>\n      <td>77.665997</td>\n    </tr>\n    <tr>\n      <th>5</th>\n      <td>Biriyani Mane</td>\n      <td>Indian Restaurant</td>\n      <td>12.980004</td>\n      <td>77.666344</td>\n    </tr>\n    <tr>\n      <th>6</th>\n      <td>Andhra Mess</td>\n      <td>Indian Restaurant</td>\n      <td>12.981549</td>\n      <td>77.666094</td>\n    </tr>\n    <tr>\n      <th>7</th>\n      <td>U.S. Pizza</td>\n      <td>Pizza Place</td>\n      <td>12.973847</td>\n      <td>77.665617</td>\n    </tr>\n    <tr>\n      <th>8</th>\n      <td>Beijing Bites</td>\n      <td>Chinese Restaurant</td>\n      <td>12.971985</td>\n      <td>77.661764</td>\n    </tr>\n    <tr>\n      <th>9</th>\n      <td>DRDO Complex Fountain Square</td>\n      <td>Park</td>\n      <td>12.985164</td>\n      <td>77.663264</td>\n    </tr>\n    <tr>\n      <th>10</th>\n      <td>Nandini Bakery</td>\n      <td>Bakery</td>\n      <td>12.972400</td>\n      <td>77.665259</td>\n    </tr>\n    <tr>\n      <th>11</th>\n      <td>Kakaji</td>\n      <td>Indian Restaurant</td>\n      <td>12.980091</td>\n      <td>77.665528</td>\n    </tr>\n  </tbody>\n</table>\n</div>", 
                        "text/plain": "                            name          categories        lat        lng\n0                Barista Lavazza         Coffee Shop  12.979603  77.657971\n1                         Subway      Sandwich Place  12.979144  77.658872\n2                     Chai Point          Food Truck  12.974730  77.655690\n3                   Tea O' Clock         Coffee Shop  12.980122  77.665538\n4                BTP Prison Gate          Smoke Shop  12.979457  77.665997\n5                  Biriyani Mane   Indian Restaurant  12.980004  77.666344\n6                    Andhra Mess   Indian Restaurant  12.981549  77.666094\n7                     U.S. Pizza         Pizza Place  12.973847  77.665617\n8                  Beijing Bites  Chinese Restaurant  12.971985  77.661764\n9   DRDO Complex Fountain Square                Park  12.985164  77.663264\n10                Nandini Bakery              Bakery  12.972400  77.665259\n11                        Kakaji   Indian Restaurant  12.980091  77.665528"
                    }, 
                    "output_type": "execute_result"
                }
            ], 
            "source": "venues = results['response']['groups'][0]['items']\n    \nnearby_venues = json_normalize(venues) # flatten JSON\n\n# filter columns\nfiltered_columns = ['venue.name', 'venue.categories', 'venue.location.lat', 'venue.location.lng']\nnearby_venues =nearby_venues.loc[:, filtered_columns]\n\n# filter the category for each row\nnearby_venues['venue.categories'] = nearby_venues.apply(get_category_type, axis=1)\n\n# clean columns\nnearby_venues.columns = [col.split(\".\")[-1] for col in nearby_venues.columns]\n\nnearby_venues.head(100)"
        }, 
        {
            "execution_count": 46, 
            "cell_type": "code", 
            "metadata": {}, 
            "outputs": [
                {
                    "output_type": "stream", 
                    "name": "stdout", 
                    "text": "12 venues were returned by Foursquare.\n"
                }
            ], 
            "source": "print('{} venues were returned by Foursquare.'.format(nearby_venues.shape[0]))"
        }, 
        {
            "execution_count": null, 
            "cell_type": "code", 
            "metadata": {}, 
            "outputs": [], 
            "source": ""
        }
    ], 
    "metadata": {
        "kernelspec": {
            "display_name": "Python 3.5", 
            "name": "python3", 
            "language": "python"
        }, 
        "language_info": {
            "mimetype": "text/x-python", 
            "nbconvert_exporter": "python", 
            "version": "3.5.5", 
            "name": "python", 
            "file_extension": ".py", 
            "pygments_lexer": "ipython3", 
            "codemirror_mode": {
                "version": 3, 
                "name": "ipython"
            }
        }
    }, 
    "nbformat": 4
}